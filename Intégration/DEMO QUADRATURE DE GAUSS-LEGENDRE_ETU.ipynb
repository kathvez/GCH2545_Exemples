{
 "cells": [
  {
   "cell_type": "code",
   "execution_count": 1,
   "id": "debcc5e8",
   "metadata": {},
   "outputs": [],
   "source": [
    "# Démonstration en classe de la quadrature de Gauss-Legendre\n",
    "# Quadrature en deux points vs méthode par trapèze"
   ]
  },
  {
   "cell_type": "code",
   "execution_count": 2,
   "id": "f18b2bc9",
   "metadata": {},
   "outputs": [],
   "source": [
    "import numpy as np\n",
    "\n",
    "#Paramètres pour la quadrature de Gauss-Legendre à deux points \n",
    "\n",
    "\n",
    "\n",
    "#Bornes d'intégration\n",
    "\n",
    "\n",
    "#Pas d'intégration (pour la méthode par trapèze)\n"
   ]
  },
  {
   "cell_type": "code",
   "execution_count": 3,
   "id": "e2f26019",
   "metadata": {},
   "outputs": [],
   "source": [
    "#Polynome à intégrer\n",
    "\n"
   ]
  },
  {
   "cell_type": "code",
   "execution_count": 4,
   "id": "790c4e6d",
   "metadata": {},
   "outputs": [],
   "source": [
    "#Changement de bornes \n",
    "\n"
   ]
  },
  {
   "cell_type": "code",
   "execution_count": 5,
   "id": "1f748a18",
   "metadata": {},
   "outputs": [],
   "source": [
    "# Intégration par trapèzes de la fonction f(x) entre a et b\n",
    "\n",
    "#print(f\"Intégration par trapèzes: {}\")"
   ]
  },
  {
   "cell_type": "code",
   "execution_count": 6,
   "id": "f64be859",
   "metadata": {},
   "outputs": [],
   "source": [
    "#Intégration de la fonction g(t) entre les bornes -1 et 1 par la quadrature de Gauss-Legendre\n",
    "\n",
    "\n",
    "\n",
    "#print(f\"Intégration par Gauss-Legendre: {}\")"
   ]
  },
  {
   "cell_type": "code",
   "execution_count": 7,
   "id": "264494fc",
   "metadata": {},
   "outputs": [],
   "source": [
    "#Calculer la différence entre les deux valeurs\n",
    "\n",
    "\n",
    "#print(f\"Différence entre les deux méthodes:{}\")"
   ]
  },
  {
   "cell_type": "code",
   "execution_count": null,
   "id": "f3030418",
   "metadata": {},
   "outputs": [],
   "source": []
  },
  {
   "cell_type": "code",
   "execution_count": null,
   "id": "9f209b23",
   "metadata": {},
   "outputs": [],
   "source": []
  },
  {
   "cell_type": "code",
   "execution_count": null,
   "id": "974cb3a3",
   "metadata": {},
   "outputs": [],
   "source": []
  }
 ],
 "metadata": {
  "kernelspec": {
   "display_name": "Python 3 (ipykernel)",
   "language": "python",
   "name": "python3"
  },
  "language_info": {
   "codemirror_mode": {
    "name": "ipython",
    "version": 3
   },
   "file_extension": ".py",
   "mimetype": "text/x-python",
   "name": "python",
   "nbconvert_exporter": "python",
   "pygments_lexer": "ipython3",
   "version": "3.11.4"
  }
 },
 "nbformat": 4,
 "nbformat_minor": 5
}
