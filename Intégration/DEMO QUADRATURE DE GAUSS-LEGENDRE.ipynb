{
 "cells": [
  {
   "cell_type": "code",
   "execution_count": 8,
   "id": "68ae9484",
   "metadata": {},
   "outputs": [],
   "source": [
    "# Démonstration en classe de la quadrature de Gauss-Legendre\n",
    "# Quadrature en deux points vs méthode par trapèze"
   ]
  },
  {
   "cell_type": "code",
   "execution_count": 9,
   "id": "43d001f1",
   "metadata": {},
   "outputs": [],
   "source": [
    "import numpy as np\n",
    "\n",
    "#Paramètres pour la quadrature de Gauss-Legendre à deux points \n",
    "\n",
    "w=np.zeros(2)\n",
    "t=np.zeros(2)\n",
    "w[0]=1.0\n",
    "w[1]=1.0\n",
    "t[0]=-np.sqrt(1/3)\n",
    "t[1]=np.sqrt(1/3)\n",
    "\n",
    "#Bornes d'intégration\n",
    "a=0\n",
    "b=1\n",
    "\n",
    "#Pas d'intégration (pour la méthode par trapèze)\n",
    "n=int(1e6)\n",
    "N=n-1"
   ]
  },
  {
   "cell_type": "code",
   "execution_count": 10,
   "id": "1a2c02c9",
   "metadata": {},
   "outputs": [],
   "source": [
    "#Polynome à intégrer\n",
    "\n",
    "f=lambda x: 3*x**3+x**2-x+9"
   ]
  },
  {
   "cell_type": "code",
   "execution_count": 11,
   "id": "56edd5fd",
   "metadata": {},
   "outputs": [],
   "source": [
    "#Changement de bornes \n",
    "\n",
    "g=lambda t: f(((b-a)*t+(a+b))/2)*(b-a)/2"
   ]
  },
  {
   "cell_type": "code",
   "execution_count": 12,
   "id": "18676824",
   "metadata": {},
   "outputs": [
    {
     "name": "stdout",
     "output_type": "stream",
     "text": [
      "Intégration par trapèzes: 9.583333333334249\n"
     ]
    }
   ],
   "source": [
    "# Intégration par trapèzes de la fonction f(x) entre a et b\n",
    "x = np.linspace(a, b, n)\n",
    "I_trap = np.trapz(f(x), x)\n",
    "print(f\"Intégration par trapèzes: {I_trap}\")"
   ]
  },
  {
   "cell_type": "code",
   "execution_count": 13,
   "id": "0a888039",
   "metadata": {},
   "outputs": [
    {
     "name": "stdout",
     "output_type": "stream",
     "text": [
      "Intégration par Gauss-Legendre: 9.583333333333332\n"
     ]
    }
   ],
   "source": [
    "#Intégration de la fonction g(t) entre les bornes -1 et 1 par la quadrature de Gauss-Legendre\n",
    "I_gauss = w[0]*g(t[0])+w[1]*g(t[1])\n",
    "print(f\"Intégration par Gauss-Legendre: {I_gauss}\")"
   ]
  },
  {
   "cell_type": "code",
   "execution_count": 18,
   "id": "d91f09c7",
   "metadata": {},
   "outputs": [
    {
     "name": "stdout",
     "output_type": "stream",
     "text": [
      "Différence entre les deux méthodes:9.166001291305292e-13\n"
     ]
    }
   ],
   "source": [
    "#Calculer la différence entre les deux valeurs\n",
    "diff=I_trap-I_gauss\n",
    "print(f\"Différence entre les deux méthodes:{diff}\")"
   ]
  },
  {
   "cell_type": "code",
   "execution_count": null,
   "id": "2471d195",
   "metadata": {},
   "outputs": [],
   "source": []
  }
 ],
 "metadata": {
  "kernelspec": {
   "display_name": "Python 3 (ipykernel)",
   "language": "python",
   "name": "python3"
  },
  "language_info": {
   "codemirror_mode": {
    "name": "ipython",
    "version": 3
   },
   "file_extension": ".py",
   "mimetype": "text/x-python",
   "name": "python",
   "nbconvert_exporter": "python",
   "pygments_lexer": "ipython3",
   "version": "3.11.4"
  }
 },
 "nbformat": 4,
 "nbformat_minor": 5
}
